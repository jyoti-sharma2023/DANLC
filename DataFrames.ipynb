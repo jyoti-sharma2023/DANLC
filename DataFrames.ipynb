{
 "cells": [
  {
   "cell_type": "code",
   "execution_count": 67,
   "id": "bc04b725-385e-43d2-8571-91a9b92890fb",
   "metadata": {},
   "outputs": [
    {
     "name": "stdout",
     "output_type": "stream",
     "text": [
      "DataFrame\n",
      ":     ID     name\n",
      "0  101     riya\n",
      "1  102  deepali\n",
      "2  103   muskan\n",
      "3  104   krisha\n",
      "4  105   anjali\n",
      "101\triya\t"
     ]
    },
    {
     "name": "stdin",
     "output_type": "stream",
     "text": [
      "enter age 32\n"
     ]
    },
    {
     "name": "stdout",
     "output_type": "stream",
     "text": [
      "102\tdeepali\t"
     ]
    },
    {
     "name": "stdin",
     "output_type": "stream",
     "text": [
      "enter age 21\n"
     ]
    },
    {
     "name": "stdout",
     "output_type": "stream",
     "text": [
      "103\tmuskan\t"
     ]
    },
    {
     "name": "stdin",
     "output_type": "stream",
     "text": [
      "enter age 22\n"
     ]
    },
    {
     "name": "stdout",
     "output_type": "stream",
     "text": [
      "104\tkrisha\t"
     ]
    },
    {
     "name": "stdin",
     "output_type": "stream",
     "text": [
      "enter age 23\n"
     ]
    },
    {
     "name": "stdout",
     "output_type": "stream",
     "text": [
      "105\tanjali\t"
     ]
    },
    {
     "name": "stdin",
     "output_type": "stream",
     "text": [
      "enter age 24\n"
     ]
    },
    {
     "name": "stdout",
     "output_type": "stream",
     "text": [
      "DataFrame:\n",
      "     ID     name age\n",
      "0  101     riya  32\n",
      "1  102  deepali  21\n",
      "2  103   muskan  22\n",
      "3  104   krisha  23\n",
      "4  105   anjali  24\n"
     ]
    }
   ],
   "source": [
    "import pandas as pd\n",
    "#add a column into the existing dataframe \n",
    "data={\n",
    "    'ID':[101,102,103,104,105],\n",
    "    'name':['riya','deepali','muskan','krisha','anjali']\n",
    "}\n",
    "df=pd.DataFrame(data)\n",
    "print(\"DataFrame\\n:\",df)\n",
    "\n",
    "newcol='age'\n",
    "df['age'] = None\n",
    "#for index, r in df.iterrows():\n",
    "    #print(index,\"t\",r)\n",
    "   # print (r)\n",
    "\n",
    "for i in range(len(df)):\n",
    "    for j in range(len(df.columns)):\n",
    "        if j==2:\n",
    "            df.iloc[i,j]=int(input(\"enter age\"))\n",
    "        else:\n",
    "            print(df.iloc[i,j], end=\"\\t\")\n",
    "          \n",
    "            \n",
    "print(\"DataFrame:\\n\",df)\n",
    "\n",
    "city=['delhi','ranchi','pune','rajasthan','gurgoan']\n",
    "df.insert(2,'City',city)\n"
   ]
  },
  {
   "cell_type": "code",
   "execution_count": 57,
   "id": "6a390e58-0ee4-4d77-ae3c-b5d510944d45",
   "metadata": {},
   "outputs": [
    {
     "name": "stdout",
     "output_type": "stream",
     "text": [
      "Initial DataFrame:\n",
      "     ID     name\n",
      "0  101     riya\n",
      "1  102  deepali\n",
      "2  103   muskan\n",
      "3  104   krisha\n",
      "4  105   anjali\n"
     ]
    },
    {
     "name": "stdin",
     "output_type": "stream",
     "text": [
      "Enter age for ID 101 (row 0):  45\n",
      "Enter age for ID 102 (row 1):  87\n",
      "Enter age for ID 103 (row 2):  45\n",
      "Enter age for ID 104 (row 3):  23\n",
      "Enter age for ID 105 (row 4):  21\n"
     ]
    },
    {
     "name": "stdout",
     "output_type": "stream",
     "text": [
      "Final DataFrame:\n",
      "     ID     name       City age\n",
      "0  101     riya      delhi  45\n",
      "1  102  deepali     ranchi  87\n",
      "2  103   muskan       pune  45\n",
      "3  104   krisha  rajasthan  23\n",
      "4  105   anjali    gurgaon  21\n"
     ]
    }
   ],
   "source": [
    "import pandas as pd\n",
    "\n",
    "# Create the initial DataFrame\n",
    "data = {\n",
    "    'ID': [101, 102, 103, 104, 105],\n",
    "    'name': ['riya', 'deepali', 'muskan', 'krisha', 'anjali']\n",
    "}\n",
    "df = pd.DataFrame(data)\n",
    "print(\"Initial DataFrame:\\n\", df)\n",
    "\n",
    "# Adding a new column 'age' with NaN values initially\n",
    "df['age'] = None\n",
    "\n",
    "# Collecting user input for the 'age' column\n",
    "for i in range(len(df)):\n",
    "    while True:\n",
    "        try:\n",
    "            age = int(input(f\"Enter age for ID {df.iloc[i]['ID']} (row {i}): \"))\n",
    "            df.at[i, 'age'] = age\n",
    "            break\n",
    "        except ValueError:\n",
    "            print(\"Please enter a valid integer for age.\")\n",
    "\n",
    "# Adding a new column 'City'\n",
    "city = ['delhi', 'ranchi', 'pune', 'rajasthan', 'gurgaon']\n",
    "df.insert(2, 'City', city)\n",
    "\n",
    "# Print the final DataFrame\n",
    "print(\"Final DataFrame:\\n\", df)"
   ]
  },
  {
   "cell_type": "code",
   "execution_count": 69,
   "id": "10d8ff08-7232-4e3d-a776-025963d55459",
   "metadata": {},
   "outputs": [
    {
     "name": "stdout",
     "output_type": "stream",
     "text": [
      "DataFrame:\n",
      "    Math  English  Hindi\n",
      "0    78       84     86\n",
      "1    85       94     97\n",
      "2    96       89     96\n",
      "3    80       83     72\n",
      "4    86       86     83\n"
     ]
    }
   ],
   "source": [
    "import pandas as pd\n",
    "\n",
    "score = {\n",
    "    'Math': [78, 85, 96, 80, 86],\n",
    "    'English': [84, 94, 89, 83, 86],\n",
    "    'Hindi': [86, 97, 96, 72, 83]\n",
    "}\n",
    "\n",
    "# Create a DataFrame from the dictionary\n",
    "df = pd.DataFrame(score)\n",
    "\n",
    "# Display the DataFrame\n",
    "print(\"DataFrame:\\n\", df)"
   ]
  },
  {
   "cell_type": "code",
   "execution_count": null,
   "id": "011bd845-8803-468f-bf9d-4051ad1ddb07",
   "metadata": {},
   "outputs": [],
   "source": []
  },
  {
   "cell_type": "code",
   "execution_count": 71,
   "id": "ed97a5ec-ce94-4c52-b407-c646619992a1",
   "metadata": {},
   "outputs": [
    {
     "name": "stdout",
     "output_type": "stream",
     "text": [
      "DataFrame:\n",
      "             name  score  attempts qualify\n",
      "student1    RIYA     12         1     yes\n",
      "student2    DIYA      9         3      no\n",
      "student3   KAVYA     20         2     yes\n",
      "student4     JOY     20         1     yes\n",
      "student5  SHIKHA     17         2     yes\n"
     ]
    }
   ],
   "source": [
    "import pandas as pd\n",
    "import numpy as np\n",
    "\n",
    "\n",
    "exam_data = {\n",
    "    'name': ['RIYA', 'DIYA', 'KAVYA', 'JOY', 'SHIKHA'],\n",
    "    'score': [12, 9,20,20,17,],\n",
    "    'attempts': [1, 3, 2, 1, 2,],\n",
    "    'qualify': ['yes', 'no', 'yes', 'yes', 'yes']\n",
    "}\n",
    "\n",
    "# Define index labels\n",
    "index_labels = ['student1', 'student2', 'student3', 'student4', 'student5']\n",
    "\n",
    "# Create the DataFrame\n",
    "df = pd.DataFrame(exam_data, index=index_labels)\n",
    "\n",
    "# Display the DataFrame\n",
    "print(\"DataFrame:\\n\", df)\n",
    "\n"
   ]
  },
  {
   "cell_type": "code",
   "execution_count": 73,
   "id": "1b6fa6f2-ce3e-47d7-8d3e-70d7054cc7d8",
   "metadata": {},
   "outputs": [
    {
     "name": "stdout",
     "output_type": "stream",
     "text": [
      "First 3 rows of the DataFrame:\n",
      "     name  score  attempts qualify\n",
      "0   RIYA     12         1     yes\n",
      "1   DIYA      9         3      no\n",
      "2  KAVYA     20         2     yes\n"
     ]
    }
   ],
   "source": [
    "import pandas as pd\n",
    "import numpy as np\n",
    "\n",
    "\n",
    "exam_data = {\n",
    "     'name': ['RIYA', 'DIYA', 'KAVYA', 'JOY', 'SHIKHA'],\n",
    "    'score': [12, 9,20,20,17,],\n",
    "    'attempts': [1, 3, 2, 1, 2,],\n",
    "    'qualify': ['yes', 'no', 'yes', 'yes', 'yes']\n",
    "}\n",
    "\n",
    "# Create the DataFrame\n",
    "df = pd.DataFrame(exam_data)\n",
    "\n",
    "# Get the first 3 rows of the DataFrame\n",
    "first_3_rows = df.head(3)\n",
    "\n",
    "# Display the first 3 rows\n",
    "print(\"First 3 rows of the DataFrame:\\n\", first_3_rows)"
   ]
  },
  {
   "cell_type": "code",
   "execution_count": 75,
   "id": "cbad2dac-ab1e-4b35-bcad-f33473f48756",
   "metadata": {},
   "outputs": [
    {
     "name": "stdout",
     "output_type": "stream",
     "text": [
      "Selected 'name' and 'score' columns:\n",
      "      name  score\n",
      "0    RIYA     12\n",
      "1    DIYA      9\n",
      "2   KAVYA     20\n",
      "3     JOY     20\n",
      "4  SHIKHA     17\n"
     ]
    }
   ],
   "source": [
    "import pandas as pd\n",
    "import numpy as np\n",
    "\n",
    "\n",
    "exam_data = {\n",
    "    'name': ['RIYA', 'DIYA', 'KAVYA', 'JOY', 'SHIKHA'],\n",
    "    'score': [12, 9,20,20,17,],\n",
    "    'attempts': [1, 3, 2, 1, 2,],\n",
    "    'qualify': ['yes', 'no', 'yes', 'yes', 'yes']\n",
    "}\n",
    "\n",
    "# Create the DataFrame\n",
    "df = pd.DataFrame(exam_data)\n",
    "\n",
    "# Select the 'name' and 'score' columns\n",
    "selected_columns = df[['name', 'score']]\n",
    "\n",
    "# Display the result\n",
    "print(\"Selected 'name' and 'score' columns:\\n\", selected_columns)"
   ]
  },
  {
   "cell_type": "code",
   "execution_count": 77,
   "id": "e0d560c5-23c8-4e10-bc0e-3e2fa1340dcb",
   "metadata": {},
   "outputs": [
    {
     "ename": "FileNotFoundError",
     "evalue": "[Errno 2] No such file or directory: ''",
     "output_type": "error",
     "traceback": [
      "\u001b[1;31m---------------------------------------------------------------------------\u001b[0m",
      "\u001b[1;31mFileNotFoundError\u001b[0m                         Traceback (most recent call last)",
      "Cell \u001b[1;32mIn[77], line 2\u001b[0m\n\u001b[0;32m      1\u001b[0m \u001b[38;5;28;01mimport\u001b[39;00m \u001b[38;5;21;01mpandas\u001b[39;00m \u001b[38;5;28;01mas\u001b[39;00m \u001b[38;5;21;01mpd\u001b[39;00m\n\u001b[1;32m----> 2\u001b[0m filedata\u001b[38;5;241m=\u001b[39mpd\u001b[38;5;241m.\u001b[39mread_csv(\u001b[38;5;124m\"\u001b[39m\u001b[38;5;124m\"\u001b[39m)\n\u001b[0;32m      3\u001b[0m \u001b[38;5;28mprint\u001b[39m(filedata)\n\u001b[0;32m      4\u001b[0m \u001b[38;5;28mprint\u001b[39m(\u001b[38;5;124m\"\u001b[39m\u001b[38;5;124mdatatypes:\u001b[39m\u001b[38;5;124m\"\u001b[39m,filedata\u001b[38;5;241m.\u001b[39mdttype)\n",
      "File \u001b[1;32mC:\\ProgramData\\anaconda3\\Lib\\site-packages\\pandas\\io\\parsers\\readers.py:1026\u001b[0m, in \u001b[0;36mread_csv\u001b[1;34m(filepath_or_buffer, sep, delimiter, header, names, index_col, usecols, dtype, engine, converters, true_values, false_values, skipinitialspace, skiprows, skipfooter, nrows, na_values, keep_default_na, na_filter, verbose, skip_blank_lines, parse_dates, infer_datetime_format, keep_date_col, date_parser, date_format, dayfirst, cache_dates, iterator, chunksize, compression, thousands, decimal, lineterminator, quotechar, quoting, doublequote, escapechar, comment, encoding, encoding_errors, dialect, on_bad_lines, delim_whitespace, low_memory, memory_map, float_precision, storage_options, dtype_backend)\u001b[0m\n\u001b[0;32m   1013\u001b[0m kwds_defaults \u001b[38;5;241m=\u001b[39m _refine_defaults_read(\n\u001b[0;32m   1014\u001b[0m     dialect,\n\u001b[0;32m   1015\u001b[0m     delimiter,\n\u001b[1;32m   (...)\u001b[0m\n\u001b[0;32m   1022\u001b[0m     dtype_backend\u001b[38;5;241m=\u001b[39mdtype_backend,\n\u001b[0;32m   1023\u001b[0m )\n\u001b[0;32m   1024\u001b[0m kwds\u001b[38;5;241m.\u001b[39mupdate(kwds_defaults)\n\u001b[1;32m-> 1026\u001b[0m \u001b[38;5;28;01mreturn\u001b[39;00m _read(filepath_or_buffer, kwds)\n",
      "File \u001b[1;32mC:\\ProgramData\\anaconda3\\Lib\\site-packages\\pandas\\io\\parsers\\readers.py:620\u001b[0m, in \u001b[0;36m_read\u001b[1;34m(filepath_or_buffer, kwds)\u001b[0m\n\u001b[0;32m    617\u001b[0m _validate_names(kwds\u001b[38;5;241m.\u001b[39mget(\u001b[38;5;124m\"\u001b[39m\u001b[38;5;124mnames\u001b[39m\u001b[38;5;124m\"\u001b[39m, \u001b[38;5;28;01mNone\u001b[39;00m))\n\u001b[0;32m    619\u001b[0m \u001b[38;5;66;03m# Create the parser.\u001b[39;00m\n\u001b[1;32m--> 620\u001b[0m parser \u001b[38;5;241m=\u001b[39m TextFileReader(filepath_or_buffer, \u001b[38;5;241m*\u001b[39m\u001b[38;5;241m*\u001b[39mkwds)\n\u001b[0;32m    622\u001b[0m \u001b[38;5;28;01mif\u001b[39;00m chunksize \u001b[38;5;129;01mor\u001b[39;00m iterator:\n\u001b[0;32m    623\u001b[0m     \u001b[38;5;28;01mreturn\u001b[39;00m parser\n",
      "File \u001b[1;32mC:\\ProgramData\\anaconda3\\Lib\\site-packages\\pandas\\io\\parsers\\readers.py:1620\u001b[0m, in \u001b[0;36mTextFileReader.__init__\u001b[1;34m(self, f, engine, **kwds)\u001b[0m\n\u001b[0;32m   1617\u001b[0m     \u001b[38;5;28mself\u001b[39m\u001b[38;5;241m.\u001b[39moptions[\u001b[38;5;124m\"\u001b[39m\u001b[38;5;124mhas_index_names\u001b[39m\u001b[38;5;124m\"\u001b[39m] \u001b[38;5;241m=\u001b[39m kwds[\u001b[38;5;124m\"\u001b[39m\u001b[38;5;124mhas_index_names\u001b[39m\u001b[38;5;124m\"\u001b[39m]\n\u001b[0;32m   1619\u001b[0m \u001b[38;5;28mself\u001b[39m\u001b[38;5;241m.\u001b[39mhandles: IOHandles \u001b[38;5;241m|\u001b[39m \u001b[38;5;28;01mNone\u001b[39;00m \u001b[38;5;241m=\u001b[39m \u001b[38;5;28;01mNone\u001b[39;00m\n\u001b[1;32m-> 1620\u001b[0m \u001b[38;5;28mself\u001b[39m\u001b[38;5;241m.\u001b[39m_engine \u001b[38;5;241m=\u001b[39m \u001b[38;5;28mself\u001b[39m\u001b[38;5;241m.\u001b[39m_make_engine(f, \u001b[38;5;28mself\u001b[39m\u001b[38;5;241m.\u001b[39mengine)\n",
      "File \u001b[1;32mC:\\ProgramData\\anaconda3\\Lib\\site-packages\\pandas\\io\\parsers\\readers.py:1880\u001b[0m, in \u001b[0;36mTextFileReader._make_engine\u001b[1;34m(self, f, engine)\u001b[0m\n\u001b[0;32m   1878\u001b[0m     \u001b[38;5;28;01mif\u001b[39;00m \u001b[38;5;124m\"\u001b[39m\u001b[38;5;124mb\u001b[39m\u001b[38;5;124m\"\u001b[39m \u001b[38;5;129;01mnot\u001b[39;00m \u001b[38;5;129;01min\u001b[39;00m mode:\n\u001b[0;32m   1879\u001b[0m         mode \u001b[38;5;241m+\u001b[39m\u001b[38;5;241m=\u001b[39m \u001b[38;5;124m\"\u001b[39m\u001b[38;5;124mb\u001b[39m\u001b[38;5;124m\"\u001b[39m\n\u001b[1;32m-> 1880\u001b[0m \u001b[38;5;28mself\u001b[39m\u001b[38;5;241m.\u001b[39mhandles \u001b[38;5;241m=\u001b[39m get_handle(\n\u001b[0;32m   1881\u001b[0m     f,\n\u001b[0;32m   1882\u001b[0m     mode,\n\u001b[0;32m   1883\u001b[0m     encoding\u001b[38;5;241m=\u001b[39m\u001b[38;5;28mself\u001b[39m\u001b[38;5;241m.\u001b[39moptions\u001b[38;5;241m.\u001b[39mget(\u001b[38;5;124m\"\u001b[39m\u001b[38;5;124mencoding\u001b[39m\u001b[38;5;124m\"\u001b[39m, \u001b[38;5;28;01mNone\u001b[39;00m),\n\u001b[0;32m   1884\u001b[0m     compression\u001b[38;5;241m=\u001b[39m\u001b[38;5;28mself\u001b[39m\u001b[38;5;241m.\u001b[39moptions\u001b[38;5;241m.\u001b[39mget(\u001b[38;5;124m\"\u001b[39m\u001b[38;5;124mcompression\u001b[39m\u001b[38;5;124m\"\u001b[39m, \u001b[38;5;28;01mNone\u001b[39;00m),\n\u001b[0;32m   1885\u001b[0m     memory_map\u001b[38;5;241m=\u001b[39m\u001b[38;5;28mself\u001b[39m\u001b[38;5;241m.\u001b[39moptions\u001b[38;5;241m.\u001b[39mget(\u001b[38;5;124m\"\u001b[39m\u001b[38;5;124mmemory_map\u001b[39m\u001b[38;5;124m\"\u001b[39m, \u001b[38;5;28;01mFalse\u001b[39;00m),\n\u001b[0;32m   1886\u001b[0m     is_text\u001b[38;5;241m=\u001b[39mis_text,\n\u001b[0;32m   1887\u001b[0m     errors\u001b[38;5;241m=\u001b[39m\u001b[38;5;28mself\u001b[39m\u001b[38;5;241m.\u001b[39moptions\u001b[38;5;241m.\u001b[39mget(\u001b[38;5;124m\"\u001b[39m\u001b[38;5;124mencoding_errors\u001b[39m\u001b[38;5;124m\"\u001b[39m, \u001b[38;5;124m\"\u001b[39m\u001b[38;5;124mstrict\u001b[39m\u001b[38;5;124m\"\u001b[39m),\n\u001b[0;32m   1888\u001b[0m     storage_options\u001b[38;5;241m=\u001b[39m\u001b[38;5;28mself\u001b[39m\u001b[38;5;241m.\u001b[39moptions\u001b[38;5;241m.\u001b[39mget(\u001b[38;5;124m\"\u001b[39m\u001b[38;5;124mstorage_options\u001b[39m\u001b[38;5;124m\"\u001b[39m, \u001b[38;5;28;01mNone\u001b[39;00m),\n\u001b[0;32m   1889\u001b[0m )\n\u001b[0;32m   1890\u001b[0m \u001b[38;5;28;01massert\u001b[39;00m \u001b[38;5;28mself\u001b[39m\u001b[38;5;241m.\u001b[39mhandles \u001b[38;5;129;01mis\u001b[39;00m \u001b[38;5;129;01mnot\u001b[39;00m \u001b[38;5;28;01mNone\u001b[39;00m\n\u001b[0;32m   1891\u001b[0m f \u001b[38;5;241m=\u001b[39m \u001b[38;5;28mself\u001b[39m\u001b[38;5;241m.\u001b[39mhandles\u001b[38;5;241m.\u001b[39mhandle\n",
      "File \u001b[1;32mC:\\ProgramData\\anaconda3\\Lib\\site-packages\\pandas\\io\\common.py:873\u001b[0m, in \u001b[0;36mget_handle\u001b[1;34m(path_or_buf, mode, encoding, compression, memory_map, is_text, errors, storage_options)\u001b[0m\n\u001b[0;32m    868\u001b[0m \u001b[38;5;28;01melif\u001b[39;00m \u001b[38;5;28misinstance\u001b[39m(handle, \u001b[38;5;28mstr\u001b[39m):\n\u001b[0;32m    869\u001b[0m     \u001b[38;5;66;03m# Check whether the filename is to be opened in binary mode.\u001b[39;00m\n\u001b[0;32m    870\u001b[0m     \u001b[38;5;66;03m# Binary mode does not support 'encoding' and 'newline'.\u001b[39;00m\n\u001b[0;32m    871\u001b[0m     \u001b[38;5;28;01mif\u001b[39;00m ioargs\u001b[38;5;241m.\u001b[39mencoding \u001b[38;5;129;01mand\u001b[39;00m \u001b[38;5;124m\"\u001b[39m\u001b[38;5;124mb\u001b[39m\u001b[38;5;124m\"\u001b[39m \u001b[38;5;129;01mnot\u001b[39;00m \u001b[38;5;129;01min\u001b[39;00m ioargs\u001b[38;5;241m.\u001b[39mmode:\n\u001b[0;32m    872\u001b[0m         \u001b[38;5;66;03m# Encoding\u001b[39;00m\n\u001b[1;32m--> 873\u001b[0m         handle \u001b[38;5;241m=\u001b[39m \u001b[38;5;28mopen\u001b[39m(\n\u001b[0;32m    874\u001b[0m             handle,\n\u001b[0;32m    875\u001b[0m             ioargs\u001b[38;5;241m.\u001b[39mmode,\n\u001b[0;32m    876\u001b[0m             encoding\u001b[38;5;241m=\u001b[39mioargs\u001b[38;5;241m.\u001b[39mencoding,\n\u001b[0;32m    877\u001b[0m             errors\u001b[38;5;241m=\u001b[39merrors,\n\u001b[0;32m    878\u001b[0m             newline\u001b[38;5;241m=\u001b[39m\u001b[38;5;124m\"\u001b[39m\u001b[38;5;124m\"\u001b[39m,\n\u001b[0;32m    879\u001b[0m         )\n\u001b[0;32m    880\u001b[0m     \u001b[38;5;28;01melse\u001b[39;00m:\n\u001b[0;32m    881\u001b[0m         \u001b[38;5;66;03m# Binary mode\u001b[39;00m\n\u001b[0;32m    882\u001b[0m         handle \u001b[38;5;241m=\u001b[39m \u001b[38;5;28mopen\u001b[39m(handle, ioargs\u001b[38;5;241m.\u001b[39mmode)\n",
      "\u001b[1;31mFileNotFoundError\u001b[0m: [Errno 2] No such file or directory: ''"
     ]
    }
   ],
   "source": [
    "import pandas as pd\n",
    "filedata=pd.read_csv(\"\")\n",
    "print(filedata)\n",
    "print(\"datatypes:\",filedata.dttype)\n",
    "print(\"first 5 rows:\")\n",
    "print(filedata.head(5))"
   ]
  },
  {
   "cell_type": "code",
   "execution_count": 93,
   "id": "81371b44-e088-432d-be4c-437a543e8699",
   "metadata": {},
   "outputs": [
    {
     "name": "stdout",
     "output_type": "stream",
     "text": [
      "Data Frame:\n",
      "     ID    name     city\n",
      "0  101   jeeya    delhi\n",
      "1  102     joy  chennai\n",
      "2  103    riya   mumbai\n",
      "3  104  krisha  gurgoan\n",
      "4  105  anjali   ranchi\n",
      "File saved successfully: None\n",
      "Data Frame:\n",
      "     ID    name     city\n",
      "0  101   jeeya    delhi\n",
      "1  102     joy  chennai\n",
      "2  103    riya   mumbai\n",
      "3  104  krisha  gurgoan\n",
      "4  105  anjali   ranchi\n",
      "File saved successfully: None\n"
     ]
    }
   ],
   "source": [
    "import pandas as pd \n",
    "df=pd.DataFrame({\n",
    "    'ID':[101,102,103,104,105],\n",
    "'name':['jeeya','joy','riya','krisha','anjali'],\n",
    "'city':['delhi','chennai','mumbai','gurgoan','ranchi']\n",
    "})\n",
    "print(\"Data Frame:\\n\",df)\n",
    "result=df.to_csv(\"emp.csv\",sep=\",\",header=True,index=True)\n",
    "print(\"File saved successfully:\",result)\n",
    "\n",
    "df1=pd.DataFrame({\n",
    "    'ID':[101,102,103,104,105],\n",
    "'name':['jeeya','joy','riya','krisha','anjali'],\n",
    "'city':['delhi','chennai','mumbai','gurgoan','ranchi']\n",
    "})\n",
    "print(\"Data Frame:\\n\",df1)\n",
    "result=df1.to_csv(\"emp.csv\",sep=\",\",index=True,mode=\"a\",header=False)\n",
    "print(\"File saved successfully:\",result)\n"
   ]
  },
  {
   "cell_type": "code",
   "execution_count": null,
   "id": "7b2e285c-cfc8-4d70-8d2e-b48c88b80526",
   "metadata": {},
   "outputs": [],
   "source": []
  }
 ],
 "metadata": {
  "kernelspec": {
   "display_name": "Python 3 (ipykernel)",
   "language": "python",
   "name": "python3"
  },
  "language_info": {
   "codemirror_mode": {
    "name": "ipython",
    "version": 3
   },
   "file_extension": ".py",
   "mimetype": "text/x-python",
   "name": "python",
   "nbconvert_exporter": "python",
   "pygments_lexer": "ipython3",
   "version": "3.12.4"
  }
 },
 "nbformat": 4,
 "nbformat_minor": 5
}
